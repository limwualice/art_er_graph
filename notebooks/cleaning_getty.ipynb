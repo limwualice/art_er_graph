{
 "cells": [
  {
   "cell_type": "code",
   "execution_count": 118,
   "id": "cb803c1b-df78-47f2-9801-8b79b581c06e",
   "metadata": {},
   "outputs": [],
   "source": [
    "import pandas as pd\n",
    "import numpy as np\n",
    "import os"
   ]
  },
  {
   "cell_type": "code",
   "execution_count": 119,
   "id": "8ee3b8c5-1bab-44af-ac2d-a283e8f98967",
   "metadata": {},
   "outputs": [],
   "source": [
    "###Here we delete all the columns that are all null values. \n",
    "def delete_missing_cols(df):\n",
    "    num_rows=len(df)\n",
    "    # print('original number of columns',len(df.columns))\n",
    "    missing_values=df.isna().sum()\n",
    "    # print(missing_values)\n",
    "    columns_to_delete=missing_values[missing_values.values==num_rows].index.to_list()\n",
    "    # print(columns_to_delete)\n",
    "    df=df.drop(columns_to_delete, axis=1)\n",
    "    # print('new number of columns', len(df.columns))\n",
    "    return df"
   ]
  },
  {
   "cell_type": "code",
   "execution_count": 120,
   "id": "b602762e-f2fd-4b23-94f3-8ecbd3d12624",
   "metadata": {},
   "outputs": [],
   "source": [
    "### This function checks the top 5 value counts for every column in the dataframe. \n",
    "def check_value_counts(df):    \n",
    "    for c in df.columns:\n",
    "        print(\"---- %s ---\" % c)\n",
    "        print(df[c].value_counts().nlargest(5))"
   ]
  },
  {
   "cell_type": "code",
   "execution_count": 121,
   "id": "c1d32981-3667-42df-8f67-bcbc831d6e5b",
   "metadata": {},
   "outputs": [
    {
     "name": "stdout",
     "output_type": "stream",
     "text": [
      "1\n",
      "2\n",
      "3\n",
      "4\n",
      "5\n",
      "6\n",
      "7\n",
      "8\n",
      "9\n",
      "10\n",
      "11\n",
      "12\n",
      "13\n"
     ]
    }
   ],
   "source": [
    "### This cell creates a dictionary and puts each dataframe corresponding to a csv file into the dictionary.\n",
    "\n",
    "#this is our current directory\n",
    "current_dir=os.getcwd()\n",
    "\n",
    "#this is where the getty csv's are\n",
    "file_location = os.path.join(os.path.dirname(current_dir), 'getty_csvs')\n",
    "\n",
    "#dictionary\n",
    "dataframes={}\n",
    "\n",
    "#number of csv files\n",
    "n=13\n",
    "\n",
    "for i in range(1,n+1):\n",
    "    print(i)\n",
    "    df=pd.read_csv(f'{file_location}/sales_contents_{i}.csv', low_memory=False)\n",
    "    dataframes[f'df{i}']=df"
   ]
  },
  {
   "cell_type": "code",
   "execution_count": 122,
   "id": "478f20c0-1988-4c15-b0b2-9af6852f3eaa",
   "metadata": {},
   "outputs": [
    {
     "name": "stdout",
     "output_type": "stream",
     "text": [
      "1 503\n",
      "1 274\n",
      "2 503\n",
      "2 274\n",
      "3 503\n",
      "3 221\n",
      "4 503\n",
      "4 261\n",
      "5 503\n",
      "5 248\n",
      "6 503\n",
      "6 248\n",
      "7 503\n",
      "7 223\n",
      "8 503\n",
      "8 83\n",
      "9 503\n",
      "9 95\n",
      "10 503\n",
      "10 69\n",
      "11 503\n",
      "11 83\n",
      "12 503\n",
      "12 85\n",
      "13 503\n",
      "13 71\n"
     ]
    }
   ],
   "source": [
    "for i in range(1,n+1):\n",
    "    print(i, len(dataframes[f'df{i}'].columns))\n",
    "    dataframes[f'df{i}']=delete_missing_cols(dataframes[f'df{i}'])\n",
    "    print(i, len(dataframes[f'df{i}'].columns)) "
   ]
  },
  {
   "cell_type": "code",
   "execution_count": 123,
   "id": "919253ed-3254-462d-9584-7caed2eb2f26",
   "metadata": {},
   "outputs": [],
   "source": [
    "# for i in range(1,3):\n",
    "#     print(f\"------------csv_{i}------------\")\n",
    "#     check_value_counts(dataframes[f'df{i}'])\n",
    "#     print(i, len(dataframes[f'df{i}'].columns)) "
   ]
  },
  {
   "cell_type": "code",
   "execution_count": null,
   "id": "b823f015-c1f5-4ee8-b9a8-63c285130dd2",
   "metadata": {},
   "outputs": [],
   "source": []
  }
 ],
 "metadata": {
  "kernelspec": {
   "display_name": "Python 3 (ipykernel)",
   "language": "python",
   "name": "python3"
  },
  "language_info": {
   "codemirror_mode": {
    "name": "ipython",
    "version": 3
   },
   "file_extension": ".py",
   "mimetype": "text/x-python",
   "name": "python",
   "nbconvert_exporter": "python",
   "pygments_lexer": "ipython3",
   "version": "3.13.0"
  }
 },
 "nbformat": 4,
 "nbformat_minor": 5
}
